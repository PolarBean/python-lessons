{
 "cells": [
  {
   "cell_type": "code",
   "execution_count": 10,
   "metadata": {},
   "outputs": [],
   "source": [
    "How_are_you = input(\"Good morning sir, how are you today (good or bad)\")\n",
    "if How_are_you.lower() == \"good\":\n",
    "    has_iphone =  input(\"Good. do you have an Iphone\")\n",
    "else:\n",
    "    has_iphone = input(\"Thats Too bad. Do you have an Iphone\")\n",
    "if has_iphone.lower() == \"yes\":\n",
    "    welcome = input(\"welcome in\")\n",
    "else:\n",
    "    welcome = input(\"sorry, this place is not for broke people\")\n"
   ]
  },
  {
   "cell_type": "code",
   "execution_count": 11,
   "metadata": {},
   "outputs": [
    {
     "data": {
      "text/plain": [
       "'c:\\\\Users\\\\harry\\\\Documents\\\\GitHub\\\\jalil-lessons'"
      ]
     },
     "execution_count": 11,
     "metadata": {},
     "output_type": "execute_result"
    }
   ],
   "source": [
    "pwd"
   ]
  },
  {
   "cell_type": "code",
   "execution_count": null,
   "metadata": {},
   "outputs": [],
   "source": []
  }
 ],
 "metadata": {
  "interpreter": {
   "hash": "c07775a564d1126e4d961e6a74370967ae6c9d0a39ace10eef3eacd8d1dd78a5"
  },
  "kernelspec": {
   "display_name": "Python 3.7.7 ('base')",
   "language": "python",
   "name": "python3"
  },
  "language_info": {
   "codemirror_mode": {
    "name": "ipython",
    "version": 3
   },
   "file_extension": ".py",
   "mimetype": "text/x-python",
   "name": "python",
   "nbconvert_exporter": "python",
   "pygments_lexer": "ipython3",
   "version": "3.7.7"
  },
  "orig_nbformat": 4
 },
 "nbformat": 4,
 "nbformat_minor": 2
}
