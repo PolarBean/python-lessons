{
 "cells": [
  {
   "cell_type": "code",
   "execution_count": 6,
   "metadata": {},
   "outputs": [
    {
     "name": "stdout",
     "output_type": "stream",
     "text": [
      "he cant drive\n"
     ]
    }
   ],
   "source": [
    "Has_License =  False\n",
    "if Has_License:\n",
    "    print(\"He has a licence\")\n",
    "else:\n",
    "    print(\"he cant drive\") "
   ]
  },
  {
   "cell_type": "code",
   "execution_count": 10,
   "metadata": {},
   "outputs": [
    {
     "name": "stdout",
     "output_type": "stream",
     "text": [
      "not broke\n"
     ]
    }
   ],
   "source": [
    "Has_Android = False\n",
    "if not Has_Android:\n",
    "    print('not broke')\n",
    "else:\n",
    "    print(\"hes broke\")"
   ]
  },
  {
   "cell_type": "code",
   "execution_count": 12,
   "metadata": {},
   "outputs": [
    {
     "name": "stdout",
     "output_type": "stream",
     "text": [
      "he is broke af\n"
     ]
    }
   ],
   "source": [
    "Has_Iphone = False\n",
    "\n",
    "is_he_rich = \"yes\" if Has_Iphone else \"he is broke af\"\n",
    "print(is_he_rich)"
   ]
  },
  {
   "cell_type": "code",
   "execution_count": 15,
   "metadata": {},
   "outputs": [
    {
     "name": "stdout",
     "output_type": "stream",
     "text": [
      "he is broke af\n",
      "yes\n",
      "yes\n",
      "he is broke af\n",
      "he is broke af\n"
     ]
    }
   ],
   "source": [
    "myFriendsHasIphones = [False, True, True, False, False]\n",
    "for Has_Iphone in myFriendsHasIphones:\n",
    "    is_he_rich = \"yes\" if Has_Iphone else \"he is broke af\"\n",
    "    print(is_he_rich)\n",
    "    "
   ]
  }
 ],
 "metadata": {
  "interpreter": {
   "hash": "c07775a564d1126e4d961e6a74370967ae6c9d0a39ace10eef3eacd8d1dd78a5"
  },
  "kernelspec": {
   "display_name": "Python 3.7.7 ('base')",
   "language": "python",
   "name": "python3"
  },
  "language_info": {
   "codemirror_mode": {
    "name": "ipython",
    "version": 3
   },
   "file_extension": ".py",
   "mimetype": "text/x-python",
   "name": "python",
   "nbconvert_exporter": "python",
   "pygments_lexer": "ipython3",
   "version": "3.7.7"
  },
  "orig_nbformat": 4
 },
 "nbformat": 4,
 "nbformat_minor": 2
}
